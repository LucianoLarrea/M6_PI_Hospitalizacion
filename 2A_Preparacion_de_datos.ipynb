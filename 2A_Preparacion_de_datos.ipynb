{
  "cells": [
    {
      "cell_type": "markdown",
      "metadata": {
        "id": "4WaoEOp0KkSp"
      },
      "source": [
        "![HenryLogo](https://d31uz8lwfmyn8g.cloudfront.net/Assets/logo-henry-white-lg.png)\n",
        "\n",
        "# **Proyecto integrador**\n",
        "\n",
        "### 2. Preparación de datos\n",
        "\n",
        "Una vez entendido el contexto de la problemática y realizado el análisis exploratorio de datos de acuerdo con la descripción del dataset y la información entregada al equipo en la fase anterior, se comparte un paso a paso que deberá ser diligenciado por el equipo de ciencia de datos asignado para esta tarea con el fin de guiar el proceso de EDA y preparación de datos, lo cual es crucial antes de desarollar el modelamiento. \n",
        "\n",
        "El estudio tiene como objetivo la clasificación de un paciente como hospitalizado o no hospitalizado.\n",
        "\n",
        "\n"
      ]
    },
    {
      "cell_type": "markdown",
      "metadata": {
        "id": "E22GkymtLevx"
      },
      "source": [
        "Carguen la base de datos y revisen el tipo de cada columna del dataset. Si es necesario realicen conversiones de tipos de datos. "
      ]
    },
    {
      "cell_type": "code",
      "execution_count": 51,
      "metadata": {
        "id": "dlRCMYtGLqDJ"
      },
      "outputs": [],
      "source": [
        "import numpy as np\n",
        "import pandas as pd\n",
        "import matplotlib.pyplot as plt\n",
        "import seaborn as sns\n",
        "sns.set()\n",
        "# Importa el dataset BBDD_Hospitalización.csv a df0\n",
        "df0 = pd.read_csv(\"data/BBDD_Hospitalización.csv\", sep=\";\")\n"
      ]
    },
    {
      "attachments": {},
      "cell_type": "markdown",
      "metadata": {},
      "source": [
        "Se observan multiples columnas con pocos valores nulos.\n",
        "4 columnas float64 y 15 columnas object."
      ]
    },
    {
      "cell_type": "code",
      "execution_count": 52,
      "metadata": {},
      "outputs": [
        {
          "name": "stdout",
          "output_type": "stream",
          "text": [
            "EDAD                                                                          45\n",
            "DIABETES                                                                       2\n",
            "HOSPITALIZACIÓN ULTIMO MES                                                     2\n",
            "PSA                                                                          146\n",
            "BIOPSIAS PREVIAS                                                               2\n",
            "VOLUMEN PROSTATICO                                                             2\n",
            "ANTIBIOTICO UTILIAZADO EN LA PROFILAXIS                                        5\n",
            "NUMERO DE MUESTRAS TOMADAS                                                    12\n",
            "CUP                                                                            2\n",
            "ENF. CRONICA PULMONAR OBSTRUCTIVA                                              4\n",
            "BIOPSIA                                                                       11\n",
            "NUMERO DE DIAS POST BIOPSIA EN QUE SE PRESENTA LA COMPLICACIÓN INFECCIOSA      6\n",
            "FIEBRE                                                                         2\n",
            "ITU                                                                            2\n",
            "TIPO DE CULTIVO                                                                4\n",
            "AGENTE AISLADO                                                                 3\n",
            "PATRON DE RESISTENCIA                                                          5\n",
            "HOSPITALIZACION                                                                2\n",
            "DIAS HOSPITALIZACION MQ                                                        6\n",
            "DIAS HOSPITALIZACIÓN UPC                                                       3\n",
            "dtype: int64\n"
          ]
        },
        {
          "data": {
            "text/html": [
              "<div>\n",
              "<style scoped>\n",
              "    .dataframe tbody tr th:only-of-type {\n",
              "        vertical-align: middle;\n",
              "    }\n",
              "\n",
              "    .dataframe tbody tr th {\n",
              "        vertical-align: top;\n",
              "    }\n",
              "\n",
              "    .dataframe thead th {\n",
              "        text-align: right;\n",
              "    }\n",
              "</style>\n",
              "<table border=\"1\" class=\"dataframe\">\n",
              "  <thead>\n",
              "    <tr style=\"text-align: right;\">\n",
              "      <th></th>\n",
              "      <th>EDAD</th>\n",
              "      <th>DIABETES</th>\n",
              "      <th>HOSPITALIZACIÓN ULTIMO MES</th>\n",
              "      <th>PSA</th>\n",
              "      <th>BIOPSIAS PREVIAS</th>\n",
              "      <th>VOLUMEN PROSTATICO</th>\n",
              "      <th>ANTIBIOTICO UTILIAZADO EN LA PROFILAXIS</th>\n",
              "      <th>NUMERO DE MUESTRAS TOMADAS</th>\n",
              "      <th>CUP</th>\n",
              "      <th>ENF. CRONICA PULMONAR OBSTRUCTIVA</th>\n",
              "      <th>BIOPSIA</th>\n",
              "      <th>NUMERO DE DIAS POST BIOPSIA EN QUE SE PRESENTA LA COMPLICACIÓN INFECCIOSA</th>\n",
              "      <th>FIEBRE</th>\n",
              "      <th>ITU</th>\n",
              "      <th>TIPO DE CULTIVO</th>\n",
              "      <th>AGENTE AISLADO</th>\n",
              "      <th>PATRON DE RESISTENCIA</th>\n",
              "      <th>HOSPITALIZACION</th>\n",
              "      <th>DIAS HOSPITALIZACION MQ</th>\n",
              "      <th>DIAS HOSPITALIZACIÓN UPC</th>\n",
              "    </tr>\n",
              "  </thead>\n",
              "  <tbody>\n",
              "    <tr>\n",
              "      <th>0</th>\n",
              "      <td>53.0</td>\n",
              "      <td>NO</td>\n",
              "      <td>NO</td>\n",
              "      <td>4</td>\n",
              "      <td>NO</td>\n",
              "      <td>SI</td>\n",
              "      <td>FLUOROQUINOLONA_AMINOGLICOSIDO</td>\n",
              "      <td>12.0</td>\n",
              "      <td>NO</td>\n",
              "      <td>NO</td>\n",
              "      <td>NEG</td>\n",
              "      <td>1</td>\n",
              "      <td>SI</td>\n",
              "      <td>NO</td>\n",
              "      <td>NO</td>\n",
              "      <td>NO</td>\n",
              "      <td>NO</td>\n",
              "      <td>SI</td>\n",
              "      <td>2.0</td>\n",
              "      <td>0.0</td>\n",
              "    </tr>\n",
              "    <tr>\n",
              "      <th>1</th>\n",
              "      <td>56.0</td>\n",
              "      <td>NO</td>\n",
              "      <td>NO</td>\n",
              "      <td>7,7</td>\n",
              "      <td>NO</td>\n",
              "      <td>SI</td>\n",
              "      <td>FLUOROQUINOLONA_AMINOGLICOSIDO</td>\n",
              "      <td>12.0</td>\n",
              "      <td>NO</td>\n",
              "      <td>NO</td>\n",
              "      <td>NEG</td>\n",
              "      <td>1</td>\n",
              "      <td>SI</td>\n",
              "      <td>NO</td>\n",
              "      <td>NO</td>\n",
              "      <td>NO</td>\n",
              "      <td>NO</td>\n",
              "      <td>SI</td>\n",
              "      <td>5.0</td>\n",
              "      <td>0.0</td>\n",
              "    </tr>\n",
              "    <tr>\n",
              "      <th>2</th>\n",
              "      <td>57.0</td>\n",
              "      <td>NO</td>\n",
              "      <td>NO</td>\n",
              "      <td>29</td>\n",
              "      <td>SI</td>\n",
              "      <td>SI</td>\n",
              "      <td>FLUOROQUINOLONA_AMINOGLICOSIDO</td>\n",
              "      <td>24.0</td>\n",
              "      <td>NO</td>\n",
              "      <td>NO</td>\n",
              "      <td>NEG</td>\n",
              "      <td>1</td>\n",
              "      <td>SI</td>\n",
              "      <td>NO</td>\n",
              "      <td>HEMOCULTIVO</td>\n",
              "      <td>E.COLI</td>\n",
              "      <td>AMPI R, CIPRO R, GENTA R, SULFA M R</td>\n",
              "      <td>SI</td>\n",
              "      <td>4.0</td>\n",
              "      <td>3.0</td>\n",
              "    </tr>\n",
              "    <tr>\n",
              "      <th>3</th>\n",
              "      <td>56.0</td>\n",
              "      <td>NO</td>\n",
              "      <td>NO</td>\n",
              "      <td>7</td>\n",
              "      <td>NO</td>\n",
              "      <td>SI</td>\n",
              "      <td>FLUOROQUINOLONA_AMINOGLICOSIDO</td>\n",
              "      <td>12.0</td>\n",
              "      <td>NO</td>\n",
              "      <td>NO</td>\n",
              "      <td>NEG</td>\n",
              "      <td>1</td>\n",
              "      <td>SI</td>\n",
              "      <td>NO</td>\n",
              "      <td>NO</td>\n",
              "      <td>NO</td>\n",
              "      <td>NO</td>\n",
              "      <td>SI</td>\n",
              "      <td>5.0</td>\n",
              "      <td>0.0</td>\n",
              "    </tr>\n",
              "    <tr>\n",
              "      <th>4</th>\n",
              "      <td>55.0</td>\n",
              "      <td>NO</td>\n",
              "      <td>NO</td>\n",
              "      <td>29</td>\n",
              "      <td>SI</td>\n",
              "      <td>SI</td>\n",
              "      <td>FLUOROQUINOLONA_AMINOGLICOSIDO</td>\n",
              "      <td>24.0</td>\n",
              "      <td>NO</td>\n",
              "      <td>NO</td>\n",
              "      <td>NEG</td>\n",
              "      <td>1</td>\n",
              "      <td>SI</td>\n",
              "      <td>NO</td>\n",
              "      <td>HEMOCULTIVO</td>\n",
              "      <td>E.COLI</td>\n",
              "      <td>NO</td>\n",
              "      <td>SI</td>\n",
              "      <td>4.0</td>\n",
              "      <td>3.0</td>\n",
              "    </tr>\n",
              "  </tbody>\n",
              "</table>\n",
              "</div>"
            ],
            "text/plain": [
              "   EDAD DIABETES HOSPITALIZACIÓN ULTIMO MES  PSA BIOPSIAS PREVIAS  \\\n",
              "0  53.0       NO                         NO    4               NO   \n",
              "1  56.0       NO                         NO  7,7               NO   \n",
              "2  57.0       NO                         NO   29               SI   \n",
              "3  56.0       NO                         NO    7               NO   \n",
              "4  55.0       NO                         NO   29               SI   \n",
              "\n",
              "  VOLUMEN PROSTATICO ANTIBIOTICO UTILIAZADO EN LA PROFILAXIS  \\\n",
              "0                 SI          FLUOROQUINOLONA_AMINOGLICOSIDO   \n",
              "1                 SI          FLUOROQUINOLONA_AMINOGLICOSIDO   \n",
              "2                 SI          FLUOROQUINOLONA_AMINOGLICOSIDO   \n",
              "3                 SI          FLUOROQUINOLONA_AMINOGLICOSIDO   \n",
              "4                 SI          FLUOROQUINOLONA_AMINOGLICOSIDO   \n",
              "\n",
              "   NUMERO DE MUESTRAS TOMADAS CUP ENF. CRONICA PULMONAR OBSTRUCTIVA BIOPSIA  \\\n",
              "0                        12.0  NO                                NO     NEG   \n",
              "1                        12.0  NO                                NO     NEG   \n",
              "2                        24.0  NO                                NO     NEG   \n",
              "3                        12.0  NO                                NO     NEG   \n",
              "4                        24.0  NO                                NO     NEG   \n",
              "\n",
              "  NUMERO DE DIAS POST BIOPSIA EN QUE SE PRESENTA LA COMPLICACIÓN INFECCIOSA  \\\n",
              "0                                                  1                          \n",
              "1                                                  1                          \n",
              "2                                                  1                          \n",
              "3                                                  1                          \n",
              "4                                                  1                          \n",
              "\n",
              "  FIEBRE ITU TIPO DE CULTIVO AGENTE AISLADO  \\\n",
              "0     SI  NO              NO             NO   \n",
              "1     SI  NO              NO             NO   \n",
              "2     SI  NO     HEMOCULTIVO         E.COLI   \n",
              "3     SI  NO              NO             NO   \n",
              "4     SI  NO     HEMOCULTIVO         E.COLI   \n",
              "\n",
              "                  PATRON DE RESISTENCIA HOSPITALIZACION  \\\n",
              "0                                    NO              SI   \n",
              "1                                    NO              SI   \n",
              "2   AMPI R, CIPRO R, GENTA R, SULFA M R              SI   \n",
              "3                                    NO              SI   \n",
              "4                                    NO              SI   \n",
              "\n",
              "   DIAS HOSPITALIZACION MQ  DIAS HOSPITALIZACIÓN UPC  \n",
              "0                      2.0                       0.0  \n",
              "1                      5.0                       0.0  \n",
              "2                      4.0                       3.0  \n",
              "3                      5.0                       0.0  \n",
              "4                      4.0                       3.0  "
            ]
          },
          "execution_count": 52,
          "metadata": {},
          "output_type": "execute_result"
        }
      ],
      "source": [
        "# utilizar el método nunique() en pandas para ver cuántas variables distintas hay en cada columna de un DataFrame. \n",
        "# Este método cuenta el número de valores únicos en una columna.\n",
        "print(df0.nunique()) \n",
        "df0.head()"
      ]
    },
    {
      "attachments": {},
      "cell_type": "markdown",
      "metadata": {},
      "source": [
        "Se deben pasar los atributos categoricos a numericos y normalizar el formato de la columna 4 (PSA) Y Nro dias post Biopsia."
      ]
    },
    {
      "cell_type": "code",
      "execution_count": 53,
      "metadata": {},
      "outputs": [
        {
          "name": "stdout",
          "output_type": "stream",
          "text": [
            "['EDAD', 'DIABETES', 'Hosp.U/Mes', 'PSA', 'BIOPSIAS PREVIAS', 'VOLUMEN PROSTATICO', 'Antibiotico en profilaxis', 'Cant Muestras', 'CUP', 'ECPO', 'BIOPSIA', 'Dias Post Biopsia Infecc', 'FIEBRE', 'ITU', 'TIPO DE CULTIVO', 'AGENTE AISLADO', 'PATRON DE RESISTENCIA', 'HOSPITALIZACION', 'DIAS HOSPITALIZACION MQ', 'DIAS HOSPITALIZACIÓN UPC']\n"
          ]
        },
        {
          "data": {
            "text/html": [
              "<div>\n",
              "<style scoped>\n",
              "    .dataframe tbody tr th:only-of-type {\n",
              "        vertical-align: middle;\n",
              "    }\n",
              "\n",
              "    .dataframe tbody tr th {\n",
              "        vertical-align: top;\n",
              "    }\n",
              "\n",
              "    .dataframe thead th {\n",
              "        text-align: right;\n",
              "    }\n",
              "</style>\n",
              "<table border=\"1\" class=\"dataframe\">\n",
              "  <thead>\n",
              "    <tr style=\"text-align: right;\">\n",
              "      <th></th>\n",
              "      <th>EDAD</th>\n",
              "      <th>DIABETES</th>\n",
              "      <th>Hosp.U/Mes</th>\n",
              "      <th>PSA</th>\n",
              "      <th>BIOPSIAS PREVIAS</th>\n",
              "      <th>VOLUMEN PROSTATICO</th>\n",
              "      <th>Antibiotico en profilaxis</th>\n",
              "      <th>Cant Muestras</th>\n",
              "      <th>CUP</th>\n",
              "      <th>ECPO</th>\n",
              "      <th>BIOPSIA</th>\n",
              "      <th>Dias Post Biopsia Infecc</th>\n",
              "      <th>FIEBRE</th>\n",
              "      <th>ITU</th>\n",
              "      <th>TIPO DE CULTIVO</th>\n",
              "      <th>AGENTE AISLADO</th>\n",
              "      <th>PATRON DE RESISTENCIA</th>\n",
              "      <th>HOSPITALIZACION</th>\n",
              "      <th>DIAS HOSPITALIZACION MQ</th>\n",
              "      <th>DIAS HOSPITALIZACIÓN UPC</th>\n",
              "    </tr>\n",
              "  </thead>\n",
              "  <tbody>\n",
              "    <tr>\n",
              "      <th>0</th>\n",
              "      <td>53.0</td>\n",
              "      <td>NO</td>\n",
              "      <td>NO</td>\n",
              "      <td>4</td>\n",
              "      <td>NO</td>\n",
              "      <td>SI</td>\n",
              "      <td>FLUOROQUINOLONA_AMINOGLICOSIDO</td>\n",
              "      <td>12.0</td>\n",
              "      <td>NO</td>\n",
              "      <td>NO</td>\n",
              "      <td>NEG</td>\n",
              "      <td>1</td>\n",
              "      <td>SI</td>\n",
              "      <td>NO</td>\n",
              "      <td>NO</td>\n",
              "      <td>NO</td>\n",
              "      <td>NO</td>\n",
              "      <td>SI</td>\n",
              "      <td>2.0</td>\n",
              "      <td>0.0</td>\n",
              "    </tr>\n",
              "    <tr>\n",
              "      <th>1</th>\n",
              "      <td>56.0</td>\n",
              "      <td>NO</td>\n",
              "      <td>NO</td>\n",
              "      <td>7,7</td>\n",
              "      <td>NO</td>\n",
              "      <td>SI</td>\n",
              "      <td>FLUOROQUINOLONA_AMINOGLICOSIDO</td>\n",
              "      <td>12.0</td>\n",
              "      <td>NO</td>\n",
              "      <td>NO</td>\n",
              "      <td>NEG</td>\n",
              "      <td>1</td>\n",
              "      <td>SI</td>\n",
              "      <td>NO</td>\n",
              "      <td>NO</td>\n",
              "      <td>NO</td>\n",
              "      <td>NO</td>\n",
              "      <td>SI</td>\n",
              "      <td>5.0</td>\n",
              "      <td>0.0</td>\n",
              "    </tr>\n",
              "    <tr>\n",
              "      <th>2</th>\n",
              "      <td>57.0</td>\n",
              "      <td>NO</td>\n",
              "      <td>NO</td>\n",
              "      <td>29</td>\n",
              "      <td>SI</td>\n",
              "      <td>SI</td>\n",
              "      <td>FLUOROQUINOLONA_AMINOGLICOSIDO</td>\n",
              "      <td>24.0</td>\n",
              "      <td>NO</td>\n",
              "      <td>NO</td>\n",
              "      <td>NEG</td>\n",
              "      <td>1</td>\n",
              "      <td>SI</td>\n",
              "      <td>NO</td>\n",
              "      <td>HEMOCULTIVO</td>\n",
              "      <td>E.COLI</td>\n",
              "      <td>AMPI R, CIPRO R, GENTA R, SULFA M R</td>\n",
              "      <td>SI</td>\n",
              "      <td>4.0</td>\n",
              "      <td>3.0</td>\n",
              "    </tr>\n",
              "    <tr>\n",
              "      <th>3</th>\n",
              "      <td>56.0</td>\n",
              "      <td>NO</td>\n",
              "      <td>NO</td>\n",
              "      <td>7</td>\n",
              "      <td>NO</td>\n",
              "      <td>SI</td>\n",
              "      <td>FLUOROQUINOLONA_AMINOGLICOSIDO</td>\n",
              "      <td>12.0</td>\n",
              "      <td>NO</td>\n",
              "      <td>NO</td>\n",
              "      <td>NEG</td>\n",
              "      <td>1</td>\n",
              "      <td>SI</td>\n",
              "      <td>NO</td>\n",
              "      <td>NO</td>\n",
              "      <td>NO</td>\n",
              "      <td>NO</td>\n",
              "      <td>SI</td>\n",
              "      <td>5.0</td>\n",
              "      <td>0.0</td>\n",
              "    </tr>\n",
              "    <tr>\n",
              "      <th>4</th>\n",
              "      <td>55.0</td>\n",
              "      <td>NO</td>\n",
              "      <td>NO</td>\n",
              "      <td>29</td>\n",
              "      <td>SI</td>\n",
              "      <td>SI</td>\n",
              "      <td>FLUOROQUINOLONA_AMINOGLICOSIDO</td>\n",
              "      <td>24.0</td>\n",
              "      <td>NO</td>\n",
              "      <td>NO</td>\n",
              "      <td>NEG</td>\n",
              "      <td>1</td>\n",
              "      <td>SI</td>\n",
              "      <td>NO</td>\n",
              "      <td>HEMOCULTIVO</td>\n",
              "      <td>E.COLI</td>\n",
              "      <td>NO</td>\n",
              "      <td>SI</td>\n",
              "      <td>4.0</td>\n",
              "      <td>3.0</td>\n",
              "    </tr>\n",
              "  </tbody>\n",
              "</table>\n",
              "</div>"
            ],
            "text/plain": [
              "   EDAD DIABETES Hosp.U/Mes  PSA BIOPSIAS PREVIAS VOLUMEN PROSTATICO  \\\n",
              "0  53.0       NO         NO    4               NO                 SI   \n",
              "1  56.0       NO         NO  7,7               NO                 SI   \n",
              "2  57.0       NO         NO   29               SI                 SI   \n",
              "3  56.0       NO         NO    7               NO                 SI   \n",
              "4  55.0       NO         NO   29               SI                 SI   \n",
              "\n",
              "        Antibiotico en profilaxis  Cant Muestras CUP ECPO BIOPSIA  \\\n",
              "0  FLUOROQUINOLONA_AMINOGLICOSIDO           12.0  NO   NO     NEG   \n",
              "1  FLUOROQUINOLONA_AMINOGLICOSIDO           12.0  NO   NO     NEG   \n",
              "2  FLUOROQUINOLONA_AMINOGLICOSIDO           24.0  NO   NO     NEG   \n",
              "3  FLUOROQUINOLONA_AMINOGLICOSIDO           12.0  NO   NO     NEG   \n",
              "4  FLUOROQUINOLONA_AMINOGLICOSIDO           24.0  NO   NO     NEG   \n",
              "\n",
              "  Dias Post Biopsia Infecc FIEBRE ITU TIPO DE CULTIVO AGENTE AISLADO  \\\n",
              "0                        1     SI  NO              NO             NO   \n",
              "1                        1     SI  NO              NO             NO   \n",
              "2                        1     SI  NO     HEMOCULTIVO         E.COLI   \n",
              "3                        1     SI  NO              NO             NO   \n",
              "4                        1     SI  NO     HEMOCULTIVO         E.COLI   \n",
              "\n",
              "                  PATRON DE RESISTENCIA HOSPITALIZACION  \\\n",
              "0                                    NO              SI   \n",
              "1                                    NO              SI   \n",
              "2   AMPI R, CIPRO R, GENTA R, SULFA M R              SI   \n",
              "3                                    NO              SI   \n",
              "4                                    NO              SI   \n",
              "\n",
              "   DIAS HOSPITALIZACION MQ  DIAS HOSPITALIZACIÓN UPC  \n",
              "0                      2.0                       0.0  \n",
              "1                      5.0                       0.0  \n",
              "2                      4.0                       3.0  \n",
              "3                      5.0                       0.0  \n",
              "4                      4.0                       3.0  "
            ]
          },
          "execution_count": 53,
          "metadata": {},
          "output_type": "execute_result"
        }
      ],
      "source": [
        "# Renombra algunas columnas\n",
        "df1 = df0\n",
        "df1.rename(columns={'HOSPITALIZACIÓN ULTIMO MES': 'Hosp.U/Mes'}, inplace=True)\n",
        "df1.rename(columns={'ANTIBIOTICO UTILIAZADO EN LA PROFILAXIS': 'Antibiotico en profilaxis'}, inplace=True)\n",
        "df1.rename(columns={'NUMERO DE MUESTRAS TOMADAS': 'Cant Muestras'}, inplace=True)\n",
        "df1.rename(columns={'ENF. CRONICA PULMONAR OBSTRUCTIVA': 'ECPO'}, inplace=True)\n",
        "df1.rename(columns={'NUMERO DE DIAS POST BIOPSIA EN QUE SE PRESENTA LA COMPLICACIÓN INFECCIOSA': 'Dias Post Biopsia Infecc'}, inplace=True)\n",
        "encabezados = list(df1.columns)\n",
        "print(encabezados)\n",
        "df1.head()"
      ]
    },
    {
      "cell_type": "code",
      "execution_count": 54,
      "metadata": {},
      "outputs": [
        {
          "name": "stdout",
          "output_type": "stream",
          "text": [
            "<class 'pandas.core.frame.DataFrame'>\n",
            "RangeIndex: 570 entries, 0 to 569\n",
            "Data columns (total 20 columns):\n",
            " #   Column                     Non-Null Count  Dtype  \n",
            "---  ------                     --------------  -----  \n",
            " 0   EDAD                       568 non-null    float64\n",
            " 1   DIABETES                   568 non-null    object \n",
            " 2   Hosp.U/Mes                 568 non-null    object \n",
            " 3   PSA                        564 non-null    float64\n",
            " 4   BIOPSIAS PREVIAS           566 non-null    object \n",
            " 5   VOLUMEN PROSTATICO         567 non-null    object \n",
            " 6   Antibiotico en profilaxis  568 non-null    object \n",
            " 7   Cant Muestras              568 non-null    float64\n",
            " 8   CUP                        567 non-null    object \n",
            " 9   ECPO                       566 non-null    object \n",
            " 10  BIOPSIA                    568 non-null    object \n",
            " 11  Dias Post Biopsia Infecc   568 non-null    object \n",
            " 12  FIEBRE                     568 non-null    object \n",
            " 13  ITU                        568 non-null    object \n",
            " 14  TIPO DE CULTIVO            568 non-null    object \n",
            " 15  AGENTE AISLADO             551 non-null    object \n",
            " 16  PATRON DE RESISTENCIA      568 non-null    object \n",
            " 17  HOSPITALIZACION            565 non-null    object \n",
            " 18  DIAS HOSPITALIZACION MQ    568 non-null    float64\n",
            " 19  DIAS HOSPITALIZACIÓN UPC   568 non-null    float64\n",
            "dtypes: float64(5), object(15)\n",
            "memory usage: 89.2+ KB\n"
          ]
        }
      ],
      "source": [
        "\n",
        "# Reemplaza la coma por el punto en la columna 'PSA'\n",
        "df1['PSA'] = df1['PSA'].str.replace(',', '.')\n",
        "# Convierte la columna 'PSA' a un tipo numérico\n",
        "df1['PSA'] = pd.to_numeric(df1['PSA'])\n",
        "df1.info()"
      ]
    },
    {
      "cell_type": "code",
      "execution_count": 62,
      "metadata": {},
      "outputs": [
        {
          "data": {
            "text/plain": [
              "array(['1', '2', '3', '5', '9', 'NO', nan], dtype=object)"
            ]
          },
          "execution_count": 62,
          "metadata": {},
          "output_type": "execute_result"
        }
      ],
      "source": [
        "# Consulta los valores de Dias Post Biopsia Infecc \n",
        "df1['Dias Post Biopsia Infecc'].dropna(inplace=True)\n",
        "df1['Dias Post Biopsia Infecc'].unique()\n"
      ]
    },
    {
      "attachments": {},
      "cell_type": "markdown",
      "metadata": {},
      "source": [
        "La columna 'Dias Post Biopsia Infecc' tiene valores nan que no pueden eliinarse con .dropna ni con .isnan debido al formato object.\n",
        "Eliminar los valores con nan, convertir los 'NO' en 0 y pasar a formato numerico."
      ]
    },
    {
      "cell_type": "code",
      "execution_count": 70,
      "metadata": {},
      "outputs": [
        {
          "data": {
            "text/plain": [
              "array(['1', '2', '3', '5', '9', 'NO'], dtype=object)"
            ]
          },
          "execution_count": 70,
          "metadata": {},
          "output_type": "execute_result"
        }
      ],
      "source": [
        "df1.dropna(inplace=True)\n",
        "df1['Dias Post Biopsia Infecc'].unique()"
      ]
    },
    {
      "cell_type": "code",
      "execution_count": 77,
      "metadata": {},
      "outputs": [
        {
          "data": {
            "text/plain": [
              "array([1, 2, 3, 5, 9, 0])"
            ]
          },
          "execution_count": 77,
          "metadata": {},
          "output_type": "execute_result"
        }
      ],
      "source": [
        "df1['Dias Post Biopsia Infecc'] = df1['Dias Post Biopsia Infecc'].str.replace('NO', '0')\n",
        "df1['Dias Post Biopsia Infecc'] = pd.to_numeric(df1['Dias Post Biopsia Infecc'])\n",
        "df1['Dias Post Biopsia Infecc'].unique()"
      ]
    },
    {
      "cell_type": "code",
      "execution_count": 78,
      "metadata": {},
      "outputs": [
        {
          "data": {
            "text/html": [
              "<div>\n",
              "<style scoped>\n",
              "    .dataframe tbody tr th:only-of-type {\n",
              "        vertical-align: middle;\n",
              "    }\n",
              "\n",
              "    .dataframe tbody tr th {\n",
              "        vertical-align: top;\n",
              "    }\n",
              "\n",
              "    .dataframe thead th {\n",
              "        text-align: right;\n",
              "    }\n",
              "</style>\n",
              "<table border=\"1\" class=\"dataframe\">\n",
              "  <thead>\n",
              "    <tr style=\"text-align: right;\">\n",
              "      <th></th>\n",
              "      <th>EDAD</th>\n",
              "      <th>PSA</th>\n",
              "      <th>Cant Muestras</th>\n",
              "      <th>Dias Post Biopsia Infecc</th>\n",
              "      <th>DIAS HOSPITALIZACION MQ</th>\n",
              "      <th>DIAS HOSPITALIZACIÓN UPC</th>\n",
              "    </tr>\n",
              "  </thead>\n",
              "  <tbody>\n",
              "    <tr>\n",
              "      <th>0</th>\n",
              "      <td>53.0</td>\n",
              "      <td>4.0</td>\n",
              "      <td>12.0</td>\n",
              "      <td>1</td>\n",
              "      <td>2.0</td>\n",
              "      <td>0.0</td>\n",
              "    </tr>\n",
              "    <tr>\n",
              "      <th>1</th>\n",
              "      <td>56.0</td>\n",
              "      <td>7.7</td>\n",
              "      <td>12.0</td>\n",
              "      <td>1</td>\n",
              "      <td>5.0</td>\n",
              "      <td>0.0</td>\n",
              "    </tr>\n",
              "    <tr>\n",
              "      <th>2</th>\n",
              "      <td>57.0</td>\n",
              "      <td>29.0</td>\n",
              "      <td>24.0</td>\n",
              "      <td>1</td>\n",
              "      <td>4.0</td>\n",
              "      <td>3.0</td>\n",
              "    </tr>\n",
              "    <tr>\n",
              "      <th>3</th>\n",
              "      <td>56.0</td>\n",
              "      <td>7.0</td>\n",
              "      <td>12.0</td>\n",
              "      <td>1</td>\n",
              "      <td>5.0</td>\n",
              "      <td>0.0</td>\n",
              "    </tr>\n",
              "    <tr>\n",
              "      <th>4</th>\n",
              "      <td>55.0</td>\n",
              "      <td>29.0</td>\n",
              "      <td>24.0</td>\n",
              "      <td>1</td>\n",
              "      <td>4.0</td>\n",
              "      <td>3.0</td>\n",
              "    </tr>\n",
              "  </tbody>\n",
              "</table>\n",
              "</div>"
            ],
            "text/plain": [
              "   EDAD   PSA  Cant Muestras  Dias Post Biopsia Infecc  \\\n",
              "0  53.0   4.0           12.0                         1   \n",
              "1  56.0   7.7           12.0                         1   \n",
              "2  57.0  29.0           24.0                         1   \n",
              "3  56.0   7.0           12.0                         1   \n",
              "4  55.0  29.0           24.0                         1   \n",
              "\n",
              "   DIAS HOSPITALIZACION MQ  DIAS HOSPITALIZACIÓN UPC  \n",
              "0                      2.0                       0.0  \n",
              "1                      5.0                       0.0  \n",
              "2                      4.0                       3.0  \n",
              "3                      5.0                       0.0  \n",
              "4                      4.0                       3.0  "
            ]
          },
          "execution_count": 78,
          "metadata": {},
          "output_type": "execute_result"
        }
      ],
      "source": [
        "# Transforma en un nuevo df2 las variables categoricas a numericas\n",
        "# Primero copia las variables numericas y luego copia las categoricas transformadas a numericas desde df1 a df2\n",
        "df2 = df1[['EDAD','PSA','Cant Muestras','Dias Post Biopsia Infecc','DIAS HOSPITALIZACION MQ', 'DIAS HOSPITALIZACIÓN UPC']]\n",
        "# from sklearn import preprocessing\n",
        "# le = preprocessing.LabelEncoder()\n",
        "# df2[['DIABETES', 'HOSPITALIZACIÓN ULTIMO MES', 'BIOPSIAS PREVIAS', 'VOLUMEN PROSTATICO', 'ANTIBIOTICO UTILIAZADO EN LA PROFILAXIS', 'CUP', 'ENF. CRONICA PULMONAR OBSTRUCTIVA', 'BIOPSIA', 'NUMERO DE DIAS POST BIOPSIA EN QUE SE PRESENTA LA COMPLICACIÓN INFECCIOSA', 'FIEBRE', 'ITU', 'TIPO DE CULTIVO', 'AGENTE AISLADO', 'PATRON DE RESISTENCIA', 'HOSPITALIZACION']] = le.fit_transform(df1[['DIABETES', 'HOSPITALIZACIÓN ULTIMO MES', 'BIOPSIAS PREVIAS', 'VOLUMEN PROSTATICO', 'ANTIBIOTICO UTILIAZADO EN LA PROFILAXIS', 'CUP', 'ENF. CRONICA PULMONAR OBSTRUCTIVA', 'BIOPSIA', 'NUMERO DE DIAS POST BIOPSIA EN QUE SE PRESENTA LA COMPLICACIÓN INFECCIOSA', 'FIEBRE', 'ITU', 'TIPO DE CULTIVO', 'AGENTE AISLADO', 'PATRON DE RESISTENCIA', 'HOSPITALIZACION']])\n",
        "df2.head()"
      ]
    },
    {
      "cell_type": "code",
      "execution_count": 79,
      "metadata": {},
      "outputs": [
        {
          "data": {
            "text/plain": [
              "<Axes: >"
            ]
          },
          "execution_count": 79,
          "metadata": {},
          "output_type": "execute_result"
        },
        {
          "data": {
            "image/png": "[encoded data removed]",
            "text/plain": [
              "<Figure size 1080x720 with 2 Axes>"
            ]
          },
          "metadata": {},
          "output_type": "display_data"
        }
      ],
      "source": [
        "# Calcula la correlacion y grafica un Heatmap.\n",
        "corr_matrix_dfC = df2.corr()\n",
        "\n",
        "plt.figure(figsize=(15,10))\n",
        "sns.heatmap(corr_matrix_dfC, cmap='coolwarm', annot=True, annot_kws={'size': 8})"
      ]
    },
    {
      "attachments": {},
      "cell_type": "markdown",
      "metadata": {},
      "source": [
        "No se observan columnas redundantes entre columnas numericas."
      ]
    },
    {
      "cell_type": "code",
      "execution_count": 81,
      "metadata": {},
      "outputs": [
        {
          "name": "stderr",
          "output_type": "stream",
          "text": [
            "/var/folders/mz/l2b1bfgx00s051hj7l2h2f080000gn/T/ipykernel_89913/464463416.py:9: SettingWithCopyWarning: \n",
            "A value is trying to be set on a copy of a slice from a DataFrame.\n",
            "Try using .loc[row_indexer,col_indexer] = value instead\n",
            "\n",
            "See the caveats in the documentation: https://pandas.pydata.org/pandas-docs/stable/user_guide/indexing.html#returning-a-view-versus-a-copy\n",
            "  df_cols_to_transform[col] = le.fit_transform(df_cols_to_transform[col])\n",
            "/var/folders/mz/l2b1bfgx00s051hj7l2h2f080000gn/T/ipykernel_89913/464463416.py:9: SettingWithCopyWarning: \n",
            "A value is trying to be set on a copy of a slice from a DataFrame.\n",
            "Try using .loc[row_indexer,col_indexer] = value instead\n",
            "\n",
            "See the caveats in the documentation: https://pandas.pydata.org/pandas-docs/stable/user_guide/indexing.html#returning-a-view-versus-a-copy\n",
            "  df_cols_to_transform[col] = le.fit_transform(df_cols_to_transform[col])\n",
            "/var/folders/mz/l2b1bfgx00s051hj7l2h2f080000gn/T/ipykernel_89913/464463416.py:9: SettingWithCopyWarning: \n",
            "A value is trying to be set on a copy of a slice from a DataFrame.\n",
            "Try using .loc[row_indexer,col_indexer] = value instead\n",
            "\n",
            "See the caveats in the documentation: https://pandas.pydata.org/pandas-docs/stable/user_guide/indexing.html#returning-a-view-versus-a-copy\n",
            "  df_cols_to_transform[col] = le.fit_transform(df_cols_to_transform[col])\n",
            "/var/folders/mz/l2b1bfgx00s051hj7l2h2f080000gn/T/ipykernel_89913/464463416.py:9: SettingWithCopyWarning: \n",
            "A value is trying to be set on a copy of a slice from a DataFrame.\n",
            "Try using .loc[row_indexer,col_indexer] = value instead\n",
            "\n",
            "See the caveats in the documentation: https://pandas.pydata.org/pandas-docs/stable/user_guide/indexing.html#returning-a-view-versus-a-copy\n",
            "  df_cols_to_transform[col] = le.fit_transform(df_cols_to_transform[col])\n",
            "/var/folders/mz/l2b1bfgx00s051hj7l2h2f080000gn/T/ipykernel_89913/464463416.py:9: SettingWithCopyWarning: \n",
            "A value is trying to be set on a copy of a slice from a DataFrame.\n",
            "Try using .loc[row_indexer,col_indexer] = value instead\n",
            "\n",
            "See the caveats in the documentation: https://pandas.pydata.org/pandas-docs/stable/user_guide/indexing.html#returning-a-view-versus-a-copy\n",
            "  df_cols_to_transform[col] = le.fit_transform(df_cols_to_transform[col])\n",
            "/var/folders/mz/l2b1bfgx00s051hj7l2h2f080000gn/T/ipykernel_89913/464463416.py:9: SettingWithCopyWarning: \n",
            "A value is trying to be set on a copy of a slice from a DataFrame.\n",
            "Try using .loc[row_indexer,col_indexer] = value instead\n",
            "\n",
            "See the caveats in the documentation: https://pandas.pydata.org/pandas-docs/stable/user_guide/indexing.html#returning-a-view-versus-a-copy\n",
            "  df_cols_to_transform[col] = le.fit_transform(df_cols_to_transform[col])\n",
            "/var/folders/mz/l2b1bfgx00s051hj7l2h2f080000gn/T/ipykernel_89913/464463416.py:9: SettingWithCopyWarning: \n",
            "A value is trying to be set on a copy of a slice from a DataFrame.\n",
            "Try using .loc[row_indexer,col_indexer] = value instead\n",
            "\n",
            "See the caveats in the documentation: https://pandas.pydata.org/pandas-docs/stable/user_guide/indexing.html#returning-a-view-versus-a-copy\n",
            "  df_cols_to_transform[col] = le.fit_transform(df_cols_to_transform[col])\n",
            "/var/folders/mz/l2b1bfgx00s051hj7l2h2f080000gn/T/ipykernel_89913/464463416.py:9: SettingWithCopyWarning: \n",
            "A value is trying to be set on a copy of a slice from a DataFrame.\n",
            "Try using .loc[row_indexer,col_indexer] = value instead\n",
            "\n",
            "See the caveats in the documentation: https://pandas.pydata.org/pandas-docs/stable/user_guide/indexing.html#returning-a-view-versus-a-copy\n",
            "  df_cols_to_transform[col] = le.fit_transform(df_cols_to_transform[col])\n",
            "/var/folders/mz/l2b1bfgx00s051hj7l2h2f080000gn/T/ipykernel_89913/464463416.py:9: SettingWithCopyWarning: \n",
            "A value is trying to be set on a copy of a slice from a DataFrame.\n",
            "Try using .loc[row_indexer,col_indexer] = value instead\n",
            "\n",
            "See the caveats in the documentation: https://pandas.pydata.org/pandas-docs/stable/user_guide/indexing.html#returning-a-view-versus-a-copy\n",
            "  df_cols_to_transform[col] = le.fit_transform(df_cols_to_transform[col])\n",
            "/var/folders/mz/l2b1bfgx00s051hj7l2h2f080000gn/T/ipykernel_89913/464463416.py:9: SettingWithCopyWarning: \n",
            "A value is trying to be set on a copy of a slice from a DataFrame.\n",
            "Try using .loc[row_indexer,col_indexer] = value instead\n",
            "\n",
            "See the caveats in the documentation: https://pandas.pydata.org/pandas-docs/stable/user_guide/indexing.html#returning-a-view-versus-a-copy\n",
            "  df_cols_to_transform[col] = le.fit_transform(df_cols_to_transform[col])\n",
            "/var/folders/mz/l2b1bfgx00s051hj7l2h2f080000gn/T/ipykernel_89913/464463416.py:9: SettingWithCopyWarning: \n",
            "A value is trying to be set on a copy of a slice from a DataFrame.\n",
            "Try using .loc[row_indexer,col_indexer] = value instead\n",
            "\n",
            "See the caveats in the documentation: https://pandas.pydata.org/pandas-docs/stable/user_guide/indexing.html#returning-a-view-versus-a-copy\n",
            "  df_cols_to_transform[col] = le.fit_transform(df_cols_to_transform[col])\n",
            "/var/folders/mz/l2b1bfgx00s051hj7l2h2f080000gn/T/ipykernel_89913/464463416.py:9: SettingWithCopyWarning: \n",
            "A value is trying to be set on a copy of a slice from a DataFrame.\n",
            "Try using .loc[row_indexer,col_indexer] = value instead\n",
            "\n",
            "See the caveats in the documentation: https://pandas.pydata.org/pandas-docs/stable/user_guide/indexing.html#returning-a-view-versus-a-copy\n",
            "  df_cols_to_transform[col] = le.fit_transform(df_cols_to_transform[col])\n",
            "/var/folders/mz/l2b1bfgx00s051hj7l2h2f080000gn/T/ipykernel_89913/464463416.py:9: SettingWithCopyWarning: \n",
            "A value is trying to be set on a copy of a slice from a DataFrame.\n",
            "Try using .loc[row_indexer,col_indexer] = value instead\n",
            "\n",
            "See the caveats in the documentation: https://pandas.pydata.org/pandas-docs/stable/user_guide/indexing.html#returning-a-view-versus-a-copy\n",
            "  df_cols_to_transform[col] = le.fit_transform(df_cols_to_transform[col])\n",
            "/var/folders/mz/l2b1bfgx00s051hj7l2h2f080000gn/T/ipykernel_89913/464463416.py:9: SettingWithCopyWarning: \n",
            "A value is trying to be set on a copy of a slice from a DataFrame.\n",
            "Try using .loc[row_indexer,col_indexer] = value instead\n",
            "\n",
            "See the caveats in the documentation: https://pandas.pydata.org/pandas-docs/stable/user_guide/indexing.html#returning-a-view-versus-a-copy\n",
            "  df_cols_to_transform[col] = le.fit_transform(df_cols_to_transform[col])\n"
          ]
        },
        {
          "data": {
            "text/html": [
              "<div>\n",
              "<style scoped>\n",
              "    .dataframe tbody tr th:only-of-type {\n",
              "        vertical-align: middle;\n",
              "    }\n",
              "\n",
              "    .dataframe tbody tr th {\n",
              "        vertical-align: top;\n",
              "    }\n",
              "\n",
              "    .dataframe thead th {\n",
              "        text-align: right;\n",
              "    }\n",
              "</style>\n",
              "<table border=\"1\" class=\"dataframe\">\n",
              "  <thead>\n",
              "    <tr style=\"text-align: right;\">\n",
              "      <th></th>\n",
              "      <th>DIABETES</th>\n",
              "      <th>Hosp.U/Mes</th>\n",
              "      <th>BIOPSIAS PREVIAS</th>\n",
              "      <th>VOLUMEN PROSTATICO</th>\n",
              "      <th>Antibiotico en profilaxis</th>\n",
              "      <th>CUP</th>\n",
              "      <th>ECPO</th>\n",
              "      <th>BIOPSIA</th>\n",
              "      <th>FIEBRE</th>\n",
              "      <th>ITU</th>\n",
              "      <th>TIPO DE CULTIVO</th>\n",
              "      <th>AGENTE AISLADO</th>\n",
              "      <th>PATRON DE RESISTENCIA</th>\n",
              "      <th>HOSPITALIZACION</th>\n",
              "    </tr>\n",
              "  </thead>\n",
              "  <tbody>\n",
              "    <tr>\n",
              "      <th>0</th>\n",
              "      <td>0</td>\n",
              "      <td>0</td>\n",
              "      <td>0</td>\n",
              "      <td>1</td>\n",
              "      <td>1</td>\n",
              "      <td>0</td>\n",
              "      <td>0</td>\n",
              "      <td>9</td>\n",
              "      <td>1</td>\n",
              "      <td>0</td>\n",
              "      <td>2</td>\n",
              "      <td>1</td>\n",
              "      <td>2</td>\n",
              "      <td>1</td>\n",
              "    </tr>\n",
              "    <tr>\n",
              "      <th>1</th>\n",
              "      <td>0</td>\n",
              "      <td>0</td>\n",
              "      <td>0</td>\n",
              "      <td>1</td>\n",
              "      <td>1</td>\n",
              "      <td>0</td>\n",
              "      <td>0</td>\n",
              "      <td>9</td>\n",
              "      <td>1</td>\n",
              "      <td>0</td>\n",
              "      <td>2</td>\n",
              "      <td>1</td>\n",
              "      <td>2</td>\n",
              "      <td>1</td>\n",
              "    </tr>\n",
              "    <tr>\n",
              "      <th>2</th>\n",
              "      <td>0</td>\n",
              "      <td>0</td>\n",
              "      <td>1</td>\n",
              "      <td>1</td>\n",
              "      <td>1</td>\n",
              "      <td>0</td>\n",
              "      <td>0</td>\n",
              "      <td>9</td>\n",
              "      <td>1</td>\n",
              "      <td>0</td>\n",
              "      <td>0</td>\n",
              "      <td>0</td>\n",
              "      <td>0</td>\n",
              "      <td>1</td>\n",
              "    </tr>\n",
              "    <tr>\n",
              "      <th>3</th>\n",
              "      <td>0</td>\n",
              "      <td>0</td>\n",
              "      <td>0</td>\n",
              "      <td>1</td>\n",
              "      <td>1</td>\n",
              "      <td>0</td>\n",
              "      <td>0</td>\n",
              "      <td>9</td>\n",
              "      <td>1</td>\n",
              "      <td>0</td>\n",
              "      <td>2</td>\n",
              "      <td>1</td>\n",
              "      <td>2</td>\n",
              "      <td>1</td>\n",
              "    </tr>\n",
              "    <tr>\n",
              "      <th>4</th>\n",
              "      <td>0</td>\n",
              "      <td>0</td>\n",
              "      <td>1</td>\n",
              "      <td>1</td>\n",
              "      <td>1</td>\n",
              "      <td>0</td>\n",
              "      <td>0</td>\n",
              "      <td>9</td>\n",
              "      <td>1</td>\n",
              "      <td>0</td>\n",
              "      <td>0</td>\n",
              "      <td>0</td>\n",
              "      <td>2</td>\n",
              "      <td>1</td>\n",
              "    </tr>\n",
              "  </tbody>\n",
              "</table>\n",
              "</div>"
            ],
            "text/plain": [
              "   DIABETES  Hosp.U/Mes  BIOPSIAS PREVIAS  VOLUMEN PROSTATICO  \\\n",
              "0         0           0                 0                   1   \n",
              "1         0           0                 0                   1   \n",
              "2         0           0                 1                   1   \n",
              "3         0           0                 0                   1   \n",
              "4         0           0                 1                   1   \n",
              "\n",
              "   Antibiotico en profilaxis  CUP  ECPO  BIOPSIA  FIEBRE  ITU  \\\n",
              "0                          1    0     0        9       1    0   \n",
              "1                          1    0     0        9       1    0   \n",
              "2                          1    0     0        9       1    0   \n",
              "3                          1    0     0        9       1    0   \n",
              "4                          1    0     0        9       1    0   \n",
              "\n",
              "   TIPO DE CULTIVO  AGENTE AISLADO  PATRON DE RESISTENCIA  HOSPITALIZACION  \n",
              "0                2               1                      2                1  \n",
              "1                2               1                      2                1  \n",
              "2                0               0                      0                1  \n",
              "3                2               1                      2                1  \n",
              "4                0               0                      2                1  "
            ]
          },
          "execution_count": 81,
          "metadata": {},
          "output_type": "execute_result"
        }
      ],
      "source": [
        "# Transforma un conjunto de columnas categoricas en numericas y las copia en un nuevo df2.\n",
        "dfA = pd.DataFrame()\n",
        "from sklearn import preprocessing\n",
        "cols_to_transform = ['DIABETES', 'Hosp.U/Mes', 'BIOPSIAS PREVIAS', 'VOLUMEN PROSTATICO', 'Antibiotico en profilaxis', 'CUP', 'ECPO', 'BIOPSIA', 'FIEBRE', 'ITU', 'TIPO DE CULTIVO', 'AGENTE AISLADO', 'PATRON DE RESISTENCIA', 'HOSPITALIZACION']\n",
        "df_cols_to_transform = df1[cols_to_transform]\n",
        "le = preprocessing.LabelEncoder()\n",
        "\n",
        "for col in df_cols_to_transform.columns:\n",
        "    df_cols_to_transform[col] = le.fit_transform(df_cols_to_transform[col])\n",
        "\n",
        "# Reemplazar las columnas originales en el DataFrame\n",
        "dfA[cols_to_transform] = df_cols_to_transform\n",
        "dfA.head()"
      ]
    },
    {
      "cell_type": "code",
      "execution_count": 85,
      "metadata": {},
      "outputs": [
        {
          "data": {
            "image/png": "[encoded data removed]",
            "text/plain": [
              "<Figure size 432x288 with 1 Axes>"
            ]
          },
          "metadata": {},
          "output_type": "display_data"
        }
      ],
      "source": [
        "# Observamos cuántos casos hay de hospitalizacion y cuántos no\n",
        "\n",
        "sns.countplot(x = 'HOSPITALIZACION', data = dfA)\n",
        "plt.show()"
      ]
    },
    {
      "attachments": {},
      "cell_type": "markdown",
      "metadata": {},
      "source": [
        "El dataset esta desbalanceado con mas de 500 casos de no hospitalizacion y unos pocos de si hospitalizacion."
      ]
    },
    {
      "cell_type": "markdown",
      "metadata": {
        "id": "X33Od3Y_Lrye"
      },
      "source": [
        "Eliminen variables si es que consideran irrelevantes, sustentando adecuadamente por qué."
      ]
    },
    {
      "cell_type": "code",
      "execution_count": null,
      "metadata": {},
      "outputs": [],
      "source": [
        "#  Ya se eliminaron con dropna"
      ]
    },
    {
      "cell_type": "markdown",
      "metadata": {
        "id": "mTV2RdmbMoRE"
      },
      "source": [
        "Revisen la distribución estadística para el caso de las variables numéricas. ¿Qué gráficos permiten realizar un estudio exploratorio de la distribución? ¿Hay datos atípicos?"
      ]
    },
    {
      "cell_type": "code",
      "execution_count": 86,
      "metadata": {
        "id": "ILzt6oOaM1ag"
      },
      "outputs": [
        {
          "data": {
            "text/plain": [
              "Text(0, 0.5, 'Edad')"
            ]
          },
          "execution_count": 86,
          "metadata": {},
          "output_type": "execute_result"
        },
        {
          "data": {
            "image/png": "[encoded data removed]",
            "text/plain": [
              "<Figure size 216x288 with 1 Axes>"
            ]
          },
          "metadata": {},
          "output_type": "display_data"
        }
      ],
      "source": [
        "# Detecta Outliers de edad con boxplot\n",
        "plt.figure(figsize = (3,4))\n",
        "sns.boxplot(data=df2['EDAD'])\n",
        "plt.title('Distribucion de edades', fontsize = 12)\n",
        "# plt.xlabel('Cars')\n",
        "plt.ylabel('Edad')"
      ]
    },
    {
      "attachments": {},
      "cell_type": "markdown",
      "metadata": {},
      "source": [
        "Se observan un par de outliers de edad, que deben ser errores de tipeo, pueden eliminarse o corregirse restando 100."
      ]
    },
    {
      "cell_type": "code",
      "execution_count": 87,
      "metadata": {},
      "outputs": [
        {
          "data": {
            "text/plain": [
              "Text(0, 0.5, 'PSA')"
            ]
          },
          "execution_count": 87,
          "metadata": {},
          "output_type": "execute_result"
        },
        {
          "data": {
            "image/png": "[encoded data removed]",
            "text/plain": [
              "<Figure size 216x288 with 1 Axes>"
            ]
          },
          "metadata": {},
          "output_type": "display_data"
        }
      ],
      "source": [
        "# Detecta Outliers de PSA con boxplot\n",
        "plt.figure(figsize = (3,4))\n",
        "sns.boxplot(data=df2['PSA'])\n",
        "plt.title('Distribucion de PSA', fontsize = 12)\n",
        "plt.ylabel('PSA')"
      ]
    },
    {
      "attachments": {},
      "cell_type": "markdown",
      "metadata": {},
      "source": [
        "La gran cantidad de Outliers superiores de PSA quizas se relacione con la desproporcion entre los casos de Hospitalizacion."
      ]
    },
    {
      "cell_type": "code",
      "execution_count": 89,
      "metadata": {},
      "outputs": [
        {
          "data": {
            "text/plain": [
              "Text(0, 0.5, 'Cant Muestras')"
            ]
          },
          "execution_count": 89,
          "metadata": {},
          "output_type": "execute_result"
        },
        {
          "data": {
            "image/png": "[encoded data removed]",
            "text/plain": [
              "<Figure size 216x288 with 1 Axes>"
            ]
          },
          "metadata": {},
          "output_type": "display_data"
        }
      ],
      "source": [
        "# Detecta Outliers de PSA con boxplot\n",
        "plt.figure(figsize = (3,4))\n",
        "sns.boxplot(data=df2['Cant Muestras'])\n",
        "plt.title('NUMERO DE MUESTRAS TOMADAS', fontsize = 12)\n",
        "plt.ylabel('Cant Muestras')\n"
      ]
    },
    {
      "cell_type": "markdown",
      "metadata": {
        "id": "zyQIaY1bM12g"
      },
      "source": [
        "Si encontraron datos atípicos, ¿Imputarán o eliminarán los valores? Sustentar."
      ]
    },
    {
      "cell_type": "code",
      "execution_count": 90,
      "metadata": {
        "id": "HO3Db1YQM9JS"
      },
      "outputs": [
        {
          "data": {
            "text/plain": [
              "Text(0, 0.5, 'Edad')"
            ]
          },
          "execution_count": 90,
          "metadata": {},
          "output_type": "execute_result"
        },
        {
          "data": {
            "image/png": "[encoded data removed]",
            "text/plain": [
              "<Figure size 216x288 with 1 Axes>"
            ]
          },
          "metadata": {},
          "output_type": "display_data"
        }
      ],
      "source": [
        "# Eliminamos los outliers de edades dado que son 2 casos de NO hospitalizacion, y hay un sobremuestreo.\n",
        "df3 = df2.drop(df2[df2['EDAD'] > 100].index)\n",
        "plt.figure(figsize = (3,4))\n",
        "sns.boxplot(data=df3['EDAD'])\n",
        "plt.title('Distribucion de edades', fontsize = 12)\n",
        "# plt.xlabel('Cars')\n",
        "plt.ylabel('Edad')\n"
      ]
    },
    {
      "cell_type": "markdown",
      "metadata": {
        "id": "HAZhxOMyNFON"
      },
      "source": [
        "Para las variables categóricas, realizar una visualización adecuada para observar las frecuencias de cada categoría. ¿Observa alguna anomalía, problema de formato en alguna variable?"
      ]
    },
    {
      "cell_type": "code",
      "execution_count": 92,
      "metadata": {
        "id": "_GpXEa1oNQfG"
      },
      "outputs": [
        {
          "data": {
            "text/html": [
              "<div>\n",
              "<style scoped>\n",
              "    .dataframe tbody tr th:only-of-type {\n",
              "        vertical-align: middle;\n",
              "    }\n",
              "\n",
              "    .dataframe tbody tr th {\n",
              "        vertical-align: top;\n",
              "    }\n",
              "\n",
              "    .dataframe thead th {\n",
              "        text-align: right;\n",
              "    }\n",
              "</style>\n",
              "<table border=\"1\" class=\"dataframe\">\n",
              "  <thead>\n",
              "    <tr style=\"text-align: right;\">\n",
              "      <th></th>\n",
              "      <th>DIABETES</th>\n",
              "      <th>Hosp.U/Mes</th>\n",
              "      <th>BIOPSIAS PREVIAS</th>\n",
              "      <th>VOLUMEN PROSTATICO</th>\n",
              "      <th>Antibiotico en profilaxis</th>\n",
              "      <th>CUP</th>\n",
              "      <th>ECPO</th>\n",
              "      <th>BIOPSIA</th>\n",
              "      <th>FIEBRE</th>\n",
              "      <th>ITU</th>\n",
              "      <th>TIPO DE CULTIVO</th>\n",
              "      <th>AGENTE AISLADO</th>\n",
              "      <th>PATRON DE RESISTENCIA</th>\n",
              "      <th>HOSPITALIZACION</th>\n",
              "    </tr>\n",
              "  </thead>\n",
              "  <tbody>\n",
              "    <tr>\n",
              "      <th>count</th>\n",
              "      <td>541.000000</td>\n",
              "      <td>541.000000</td>\n",
              "      <td>541.000000</td>\n",
              "      <td>541.000000</td>\n",
              "      <td>541.000000</td>\n",
              "      <td>541.000000</td>\n",
              "      <td>541.000000</td>\n",
              "      <td>541.000000</td>\n",
              "      <td>541.000000</td>\n",
              "      <td>541.000000</td>\n",
              "      <td>541.000000</td>\n",
              "      <td>541.000000</td>\n",
              "      <td>541.000000</td>\n",
              "      <td>541.000000</td>\n",
              "    </tr>\n",
              "    <tr>\n",
              "      <th>mean</th>\n",
              "      <td>0.116451</td>\n",
              "      <td>0.009242</td>\n",
              "      <td>0.096118</td>\n",
              "      <td>0.719039</td>\n",
              "      <td>1.192237</td>\n",
              "      <td>0.007394</td>\n",
              "      <td>0.049908</td>\n",
              "      <td>6.909427</td>\n",
              "      <td>0.066543</td>\n",
              "      <td>0.011091</td>\n",
              "      <td>1.996303</td>\n",
              "      <td>0.992606</td>\n",
              "      <td>2.003697</td>\n",
              "      <td>0.042514</td>\n",
              "    </tr>\n",
              "    <tr>\n",
              "      <th>std</th>\n",
              "      <td>0.321062</td>\n",
              "      <td>0.095779</td>\n",
              "      <td>0.295026</td>\n",
              "      <td>0.449885</td>\n",
              "      <td>0.936905</td>\n",
              "      <td>0.085748</td>\n",
              "      <td>0.303231</td>\n",
              "      <td>2.795685</td>\n",
              "      <td>0.249460</td>\n",
              "      <td>0.104823</td>\n",
              "      <td>0.160973</td>\n",
              "      <td>0.121491</td>\n",
              "      <td>0.172093</td>\n",
              "      <td>0.201945</td>\n",
              "    </tr>\n",
              "    <tr>\n",
              "      <th>min</th>\n",
              "      <td>0.000000</td>\n",
              "      <td>0.000000</td>\n",
              "      <td>0.000000</td>\n",
              "      <td>0.000000</td>\n",
              "      <td>0.000000</td>\n",
              "      <td>0.000000</td>\n",
              "      <td>0.000000</td>\n",
              "      <td>0.000000</td>\n",
              "      <td>0.000000</td>\n",
              "      <td>0.000000</td>\n",
              "      <td>0.000000</td>\n",
              "      <td>0.000000</td>\n",
              "      <td>0.000000</td>\n",
              "      <td>0.000000</td>\n",
              "    </tr>\n",
              "    <tr>\n",
              "      <th>25%</th>\n",
              "      <td>0.000000</td>\n",
              "      <td>0.000000</td>\n",
              "      <td>0.000000</td>\n",
              "      <td>0.000000</td>\n",
              "      <td>1.000000</td>\n",
              "      <td>0.000000</td>\n",
              "      <td>0.000000</td>\n",
              "      <td>4.000000</td>\n",
              "      <td>0.000000</td>\n",
              "      <td>0.000000</td>\n",
              "      <td>2.000000</td>\n",
              "      <td>1.000000</td>\n",
              "      <td>2.000000</td>\n",
              "      <td>0.000000</td>\n",
              "    </tr>\n",
              "    <tr>\n",
              "      <th>50%</th>\n",
              "      <td>0.000000</td>\n",
              "      <td>0.000000</td>\n",
              "      <td>0.000000</td>\n",
              "      <td>1.000000</td>\n",
              "      <td>1.000000</td>\n",
              "      <td>0.000000</td>\n",
              "      <td>0.000000</td>\n",
              "      <td>9.000000</td>\n",
              "      <td>0.000000</td>\n",
              "      <td>0.000000</td>\n",
              "      <td>2.000000</td>\n",
              "      <td>1.000000</td>\n",
              "      <td>2.000000</td>\n",
              "      <td>0.000000</td>\n",
              "    </tr>\n",
              "    <tr>\n",
              "      <th>75%</th>\n",
              "      <td>0.000000</td>\n",
              "      <td>0.000000</td>\n",
              "      <td>0.000000</td>\n",
              "      <td>1.000000</td>\n",
              "      <td>1.000000</td>\n",
              "      <td>0.000000</td>\n",
              "      <td>0.000000</td>\n",
              "      <td>9.000000</td>\n",
              "      <td>0.000000</td>\n",
              "      <td>0.000000</td>\n",
              "      <td>2.000000</td>\n",
              "      <td>1.000000</td>\n",
              "      <td>2.000000</td>\n",
              "      <td>0.000000</td>\n",
              "    </tr>\n",
              "    <tr>\n",
              "      <th>max</th>\n",
              "      <td>1.000000</td>\n",
              "      <td>1.000000</td>\n",
              "      <td>1.000000</td>\n",
              "      <td>1.000000</td>\n",
              "      <td>4.000000</td>\n",
              "      <td>1.000000</td>\n",
              "      <td>3.000000</td>\n",
              "      <td>10.000000</td>\n",
              "      <td>1.000000</td>\n",
              "      <td>1.000000</td>\n",
              "      <td>3.000000</td>\n",
              "      <td>2.000000</td>\n",
              "      <td>4.000000</td>\n",
              "      <td>1.000000</td>\n",
              "    </tr>\n",
              "  </tbody>\n",
              "</table>\n",
              "</div>"
            ],
            "text/plain": [
              "         DIABETES  Hosp.U/Mes  BIOPSIAS PREVIAS  VOLUMEN PROSTATICO  \\\n",
              "count  541.000000  541.000000        541.000000          541.000000   \n",
              "mean     0.116451    0.009242          0.096118            0.719039   \n",
              "std      0.321062    0.095779          0.295026            0.449885   \n",
              "min      0.000000    0.000000          0.000000            0.000000   \n",
              "25%      0.000000    0.000000          0.000000            0.000000   \n",
              "50%      0.000000    0.000000          0.000000            1.000000   \n",
              "75%      0.000000    0.000000          0.000000            1.000000   \n",
              "max      1.000000    1.000000          1.000000            1.000000   \n",
              "\n",
              "       Antibiotico en profilaxis         CUP        ECPO     BIOPSIA  \\\n",
              "count                 541.000000  541.000000  541.000000  541.000000   \n",
              "mean                    1.192237    0.007394    0.049908    6.909427   \n",
              "std                     0.936905    0.085748    0.303231    2.795685   \n",
              "min                     0.000000    0.000000    0.000000    0.000000   \n",
              "25%                     1.000000    0.000000    0.000000    4.000000   \n",
              "50%                     1.000000    0.000000    0.000000    9.000000   \n",
              "75%                     1.000000    0.000000    0.000000    9.000000   \n",
              "max                     4.000000    1.000000    3.000000   10.000000   \n",
              "\n",
              "           FIEBRE         ITU  TIPO DE CULTIVO  AGENTE AISLADO  \\\n",
              "count  541.000000  541.000000       541.000000      541.000000   \n",
              "mean     0.066543    0.011091         1.996303        0.992606   \n",
              "std      0.249460    0.104823         0.160973        0.121491   \n",
              "min      0.000000    0.000000         0.000000        0.000000   \n",
              "25%      0.000000    0.000000         2.000000        1.000000   \n",
              "50%      0.000000    0.000000         2.000000        1.000000   \n",
              "75%      0.000000    0.000000         2.000000        1.000000   \n",
              "max      1.000000    1.000000         3.000000        2.000000   \n",
              "\n",
              "       PATRON DE RESISTENCIA  HOSPITALIZACION  \n",
              "count             541.000000       541.000000  \n",
              "mean                2.003697         0.042514  \n",
              "std                 0.172093         0.201945  \n",
              "min                 0.000000         0.000000  \n",
              "25%                 2.000000         0.000000  \n",
              "50%                 2.000000         0.000000  \n",
              "75%                 2.000000         0.000000  \n",
              "max                 4.000000         1.000000  "
            ]
          },
          "execution_count": 92,
          "metadata": {},
          "output_type": "execute_result"
        }
      ],
      "source": [
        "dfA.describe()"
      ]
    },
    {
      "cell_type": "code",
      "execution_count": 95,
      "metadata": {},
      "outputs": [
        {
          "data": {
            "text/plain": [
              "DIABETES                      2\n",
              "Hosp.U/Mes                    2\n",
              "BIOPSIAS PREVIAS              2\n",
              "VOLUMEN PROSTATICO            2\n",
              "Antibiotico en profilaxis     5\n",
              "CUP                           2\n",
              "ECPO                          4\n",
              "BIOPSIA                      11\n",
              "FIEBRE                        2\n",
              "ITU                           2\n",
              "TIPO DE CULTIVO               4\n",
              "AGENTE AISLADO                3\n",
              "PATRON DE RESISTENCIA         5\n",
              "HOSPITALIZACION               2\n",
              "dtype: int64"
            ]
          },
          "execution_count": 95,
          "metadata": {},
          "output_type": "execute_result"
        }
      ],
      "source": [
        "dfA.nunique()"
      ]
    },
    {
      "cell_type": "markdown",
      "metadata": {
        "id": "CmRUpq9FMcsi"
      },
      "source": [
        "Revisen la cantidad de nulos que tiene cada columna. ¿Es necesario eliminar alguna columna? ¿Se imputarán valores? En caso de imputar, explicar en cada caso, por medio de qué estrategia lo harán. "
      ]
    },
    {
      "cell_type": "code",
      "execution_count": null,
      "metadata": {
        "id": "xSSe-ZHpMmdz"
      },
      "outputs": [],
      "source": []
    },
    {
      "cell_type": "markdown",
      "metadata": {
        "id": "b_u-bC8FNTkT"
      },
      "source": [
        "Para el caso de las variables numéricas, ¿Es necesario normalizar?"
      ]
    },
    {
      "cell_type": "code",
      "execution_count": null,
      "metadata": {
        "id": "I9w7a6dXNYPz"
      },
      "outputs": [],
      "source": [
        "# Probemos normalizar a ver que cambia\n"
      ]
    },
    {
      "cell_type": "markdown",
      "metadata": {
        "id": "EiqnqbBuNmmW"
      },
      "source": [
        "Realice las transformaciones que considere pertinentes con el fin de preparar los datos para un modelo de clasificación de un paciente con desenlace en Hospitalización. "
      ]
    },
    {
      "cell_type": "code",
      "execution_count": null,
      "metadata": {
        "id": "m_n9Yfg0NmTP"
      },
      "outputs": [],
      "source": []
    },
    {
      "cell_type": "markdown",
      "metadata": {
        "id": "_xXX6APsNjkV"
      },
      "source": [
        "Realice una matriz de correlación con el fin de determinar si hay variables redundantes. En caso de encontrar altas correlaciones, ¿Tomará alguna acción?"
      ]
    },
    {
      "cell_type": "code",
      "execution_count": null,
      "metadata": {
        "id": "paHDdRnYN_Gl"
      },
      "outputs": [],
      "source": []
    },
    {
      "cell_type": "markdown",
      "metadata": {
        "id": "P2oE3VuBN_d6"
      },
      "source": [
        "Exporte la base de datos preparada en un archivo .csv para el modelamiento. "
      ]
    },
    {
      "cell_type": "code",
      "execution_count": 96,
      "metadata": {
        "id": "SzPhC-FROFGt"
      },
      "outputs": [],
      "source": [
        "# Guardar cambios en un archivo CSV\n",
        "dfA.to_csv('categorical_to_numerical.csv', index=False)"
      ]
    },
    {
      "cell_type": "code",
      "execution_count": 98,
      "metadata": {},
      "outputs": [],
      "source": [
        "df2.to_csv('only_numerical.csv', index=False)"
      ]
    },
    {
      "cell_type": "code",
      "execution_count": 102,
      "metadata": {},
      "outputs": [
        {
          "data": {
            "text/html": [
              "<div>\n",
              "<style scoped>\n",
              "    .dataframe tbody tr th:only-of-type {\n",
              "        vertical-align: middle;\n",
              "    }\n",
              "\n",
              "    .dataframe tbody tr th {\n",
              "        vertical-align: top;\n",
              "    }\n",
              "\n",
              "    .dataframe thead th {\n",
              "        text-align: right;\n",
              "    }\n",
              "</style>\n",
              "<table border=\"1\" class=\"dataframe\">\n",
              "  <thead>\n",
              "    <tr style=\"text-align: right;\">\n",
              "      <th></th>\n",
              "      <th>EDAD</th>\n",
              "      <th>PSA</th>\n",
              "      <th>Cant Muestras</th>\n",
              "      <th>Dias Post Biopsia Infecc</th>\n",
              "      <th>DIAS HOSPITALIZACION MQ</th>\n",
              "      <th>DIAS HOSPITALIZACIÓN UPC</th>\n",
              "      <th>DIABETES</th>\n",
              "      <th>Hosp.U/Mes</th>\n",
              "      <th>BIOPSIAS PREVIAS</th>\n",
              "      <th>VOLUMEN PROSTATICO</th>\n",
              "      <th>Antibiotico en profilaxis</th>\n",
              "      <th>CUP</th>\n",
              "      <th>ECPO</th>\n",
              "      <th>BIOPSIA</th>\n",
              "      <th>FIEBRE</th>\n",
              "      <th>ITU</th>\n",
              "      <th>TIPO DE CULTIVO</th>\n",
              "      <th>AGENTE AISLADO</th>\n",
              "      <th>PATRON DE RESISTENCIA</th>\n",
              "      <th>HOSPITALIZACION</th>\n",
              "    </tr>\n",
              "  </thead>\n",
              "  <tbody>\n",
              "    <tr>\n",
              "      <th>0</th>\n",
              "      <td>53.0</td>\n",
              "      <td>4.0</td>\n",
              "      <td>12.0</td>\n",
              "      <td>1</td>\n",
              "      <td>2.0</td>\n",
              "      <td>0.0</td>\n",
              "      <td>0</td>\n",
              "      <td>0</td>\n",
              "      <td>0</td>\n",
              "      <td>1</td>\n",
              "      <td>1</td>\n",
              "      <td>0</td>\n",
              "      <td>0</td>\n",
              "      <td>9</td>\n",
              "      <td>1</td>\n",
              "      <td>0</td>\n",
              "      <td>2</td>\n",
              "      <td>1</td>\n",
              "      <td>2</td>\n",
              "      <td>1</td>\n",
              "    </tr>\n",
              "    <tr>\n",
              "      <th>1</th>\n",
              "      <td>56.0</td>\n",
              "      <td>7.7</td>\n",
              "      <td>12.0</td>\n",
              "      <td>1</td>\n",
              "      <td>5.0</td>\n",
              "      <td>0.0</td>\n",
              "      <td>0</td>\n",
              "      <td>0</td>\n",
              "      <td>0</td>\n",
              "      <td>1</td>\n",
              "      <td>1</td>\n",
              "      <td>0</td>\n",
              "      <td>0</td>\n",
              "      <td>9</td>\n",
              "      <td>1</td>\n",
              "      <td>0</td>\n",
              "      <td>2</td>\n",
              "      <td>1</td>\n",
              "      <td>2</td>\n",
              "      <td>1</td>\n",
              "    </tr>\n",
              "    <tr>\n",
              "      <th>2</th>\n",
              "      <td>57.0</td>\n",
              "      <td>29.0</td>\n",
              "      <td>24.0</td>\n",
              "      <td>1</td>\n",
              "      <td>4.0</td>\n",
              "      <td>3.0</td>\n",
              "      <td>0</td>\n",
              "      <td>0</td>\n",
              "      <td>1</td>\n",
              "      <td>1</td>\n",
              "      <td>1</td>\n",
              "      <td>0</td>\n",
              "      <td>0</td>\n",
              "      <td>9</td>\n",
              "      <td>1</td>\n",
              "      <td>0</td>\n",
              "      <td>0</td>\n",
              "      <td>0</td>\n",
              "      <td>0</td>\n",
              "      <td>1</td>\n",
              "    </tr>\n",
              "    <tr>\n",
              "      <th>3</th>\n",
              "      <td>56.0</td>\n",
              "      <td>7.0</td>\n",
              "      <td>12.0</td>\n",
              "      <td>1</td>\n",
              "      <td>5.0</td>\n",
              "      <td>0.0</td>\n",
              "      <td>0</td>\n",
              "      <td>0</td>\n",
              "      <td>0</td>\n",
              "      <td>1</td>\n",
              "      <td>1</td>\n",
              "      <td>0</td>\n",
              "      <td>0</td>\n",
              "      <td>9</td>\n",
              "      <td>1</td>\n",
              "      <td>0</td>\n",
              "      <td>2</td>\n",
              "      <td>1</td>\n",
              "      <td>2</td>\n",
              "      <td>1</td>\n",
              "    </tr>\n",
              "    <tr>\n",
              "      <th>4</th>\n",
              "      <td>55.0</td>\n",
              "      <td>29.0</td>\n",
              "      <td>24.0</td>\n",
              "      <td>1</td>\n",
              "      <td>4.0</td>\n",
              "      <td>3.0</td>\n",
              "      <td>0</td>\n",
              "      <td>0</td>\n",
              "      <td>1</td>\n",
              "      <td>1</td>\n",
              "      <td>1</td>\n",
              "      <td>0</td>\n",
              "      <td>0</td>\n",
              "      <td>9</td>\n",
              "      <td>1</td>\n",
              "      <td>0</td>\n",
              "      <td>0</td>\n",
              "      <td>0</td>\n",
              "      <td>2</td>\n",
              "      <td>1</td>\n",
              "    </tr>\n",
              "  </tbody>\n",
              "</table>\n",
              "</div>"
            ],
            "text/plain": [
              "   EDAD   PSA  Cant Muestras  Dias Post Biopsia Infecc  \\\n",
              "0  53.0   4.0           12.0                         1   \n",
              "1  56.0   7.7           12.0                         1   \n",
              "2  57.0  29.0           24.0                         1   \n",
              "3  56.0   7.0           12.0                         1   \n",
              "4  55.0  29.0           24.0                         1   \n",
              "\n",
              "   DIAS HOSPITALIZACION MQ  DIAS HOSPITALIZACIÓN UPC  DIABETES  Hosp.U/Mes  \\\n",
              "0                      2.0                       0.0         0           0   \n",
              "1                      5.0                       0.0         0           0   \n",
              "2                      4.0                       3.0         0           0   \n",
              "3                      5.0                       0.0         0           0   \n",
              "4                      4.0                       3.0         0           0   \n",
              "\n",
              "   BIOPSIAS PREVIAS  VOLUMEN PROSTATICO  Antibiotico en profilaxis  CUP  ECPO  \\\n",
              "0                 0                   1                          1    0     0   \n",
              "1                 0                   1                          1    0     0   \n",
              "2                 1                   1                          1    0     0   \n",
              "3                 0                   1                          1    0     0   \n",
              "4                 1                   1                          1    0     0   \n",
              "\n",
              "   BIOPSIA  FIEBRE  ITU  TIPO DE CULTIVO  AGENTE AISLADO  \\\n",
              "0        9       1    0                2               1   \n",
              "1        9       1    0                2               1   \n",
              "2        9       1    0                0               0   \n",
              "3        9       1    0                2               1   \n",
              "4        9       1    0                0               0   \n",
              "\n",
              "   PATRON DE RESISTENCIA  HOSPITALIZACION  \n",
              "0                      2                1  \n",
              "1                      2                1  \n",
              "2                      0                1  \n",
              "3                      2                1  \n",
              "4                      2                1  "
            ]
          },
          "execution_count": 102,
          "metadata": {},
          "output_type": "execute_result"
        }
      ],
      "source": [
        "# Unir dataframes \n",
        "df_num = pd.merge(df2, dfA, left_index=True, right_index=True)\n",
        "df_num.head()"
      ]
    },
    {
      "cell_type": "code",
      "execution_count": 103,
      "metadata": {},
      "outputs": [],
      "source": [
        "df_num.to_csv('all_numerical.csv', index=False)"
      ]
    }
  ],
  "metadata": {
    "colab": {
      "provenance": []
    },
    "kernelspec": {
      "display_name": "Python 3",
      "language": "python",
      "name": "python3"
    },
    "language_info": {
      "codemirror_mode": {
        "name": "ipython",
        "version": 3
      },
      "file_extension": ".py",
      "mimetype": "text/x-python",
      "name": "python",
      "nbconvert_exporter": "python",
      "pygments_lexer": "ipython3",
      "version": "3.10.2"
    },
    "orig_nbformat": 4,
    "vscode": {
      "interpreter": {
        "hash": "aee8b7b246df8f9039afb4144a1f6fd8d2ca17a180786b69acc140d282b71a49"
      }
    }
  },
  "nbformat": 4,
  "nbformat_minor": 0
}
